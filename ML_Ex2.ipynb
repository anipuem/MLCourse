{
 "cells": [
  {
   "cell_type": "markdown",
   "metadata": {},
   "source": [
    "# Computer Exercise 2\n",
    "#### Due date: Oct. 5 (Wed.) 23:00-2022312873李佳璇"
   ]
  },
  {
   "cell_type": "code",
   "execution_count": 441,
   "metadata": {},
   "outputs": [],
   "source": [
    "# import libraries\n",
    "import csv\n",
    "import numpy as np\n",
    "import matplotlib.pyplot as plt\n",
    "import seaborn as sns\n",
    "import warnings\n",
    "warnings.filterwarnings(\"ignore\")\n",
    "%matplotlib inline"
   ]
  },
  {
   "cell_type": "markdown",
   "metadata": {},
   "source": [
    "## Experiment 1 (FLD):\n",
    "#### Use TrainingSet-1 to calculate the discriminant function using FLD. Apply the discriminant function on TestSet-1. Calculate the error rate. \n",
    "### Step 1: Import training data \n",
    "#### Include data in 'train1_icu_data.csv' as trainX, and 'train1_icu_label.csv' as tarinY"
   ]
  },
  {
   "cell_type": "code",
   "execution_count": 442,
   "metadata": {},
   "outputs": [
    {
     "name": "stdout",
     "output_type": "stream",
     "text": [
      "For feature x:\n",
      "-------------------------------feature counting-------------------------------------\n",
      "Totally 108 features included:\n",
      " ['age', 'bmi', 'elective_surgery', 'height', 'pre_icu_los_days', 'weight', 'apache_2_diagnosis', 'apache_3j_diagnosis', 'arf_apache', 'bun_apache', 'creatinine_apache', 'gcs_eyes_apache', 'gcs_motor_apache', 'gcs_verbal_apache', 'glucose_apache', 'heart_rate_apache', 'hematocrit_apache', 'intubated_apache', 'map_apache', 'resprate_apache', 'sodium_apache', 'temp_apache', 'ventilated_apache', 'wbc_apache', 'd1_diasbp_max', 'd1_diasbp_min', 'd1_heartrate_max', 'd1_heartrate_min', 'd1_mbp_max', 'd1_mbp_min', 'd1_resprate_max', 'd1_resprate_min', 'd1_spo2_max', 'd1_spo2_min', 'd1_sysbp_max', 'd1_sysbp_min', 'd1_temp_max', 'd1_temp_min', 'h1_diasbp_max', 'h1_diasbp_min', 'h1_heartrate_max', 'h1_heartrate_min', 'h1_mbp_max', 'h1_mbp_min', 'h1_resprate_max', 'h1_resprate_min', 'h1_spo2_max', 'h1_spo2_min', 'h1_sysbp_max', 'h1_sysbp_min', 'h1_temp_max', 'h1_temp_min', 'd1_calcium_max', 'd1_calcium_min', 'd1_glucose_min', 'd1_hco3_max', 'd1_hco3_min', 'd1_hemaglobin_max', 'd1_platelets_max', 'd1_potassium_max', 'd1_potassium_min', 'd1_sodium_max', 'apache_4a_icu_death_prob', 'aids', 'cirrhosis', 'diabetes_mellitus', 'hepatic_failure', 'immunosuppression', 'leukemia', 'lymphoma', 'solid_tumor_with_metastasis', 'ethnicity_African American', 'ethnicity_Asian', 'ethnicity_Caucasian', 'ethnicity_Hispanic', 'ethnicity_Native American', 'ethnicity_Other/Unknown', 'gender_F', 'gender_M', 'icu_type_CCU-CTICU', 'icu_type_CSICU', 'icu_type_CTICU', 'icu_type_Cardiac ICU', 'icu_type_MICU', 'icu_type_Med-Surg ICU', 'icu_type_Neuro ICU', 'icu_type_SICU', 'apache_3j_bodysystem_Cardiovascular', 'apache_3j_bodysystem_Gastrointestinal', 'apache_3j_bodysystem_Genitourinary', 'apache_3j_bodysystem_Gynecological', 'apache_3j_bodysystem_Hematological', 'apache_3j_bodysystem_Metabolic', 'apache_3j_bodysystem_Musculoskeletal/Skin', 'apache_3j_bodysystem_Neurological', 'apache_3j_bodysystem_Respiratory', 'apache_3j_bodysystem_Sepsis', 'apache_3j_bodysystem_Trauma', 'apache_2_bodysystem_Cardiovascular', 'apache_2_bodysystem_Gastrointestinal', 'apache_2_bodysystem_Haematologic', 'apache_2_bodysystem_Metabolic', 'apache_2_bodysystem_Neurologic', 'apache_2_bodysystem_Renal/Genitourinary', 'apache_2_bodysystem_Respiratory', 'apache_2_bodysystem_Trauma', 'apache_2_bodysystem_Undefined Diagnoses', 'apache_2_bodysystem_Undefined diagnoses']\n",
      "-------------------------------sample counting-------------------------------------\n",
      "There are totally 5000 samples for training\n"
     ]
    }
   ],
   "source": [
    "# load trainX\n",
    "trainX = []\n",
    "print('For feature x:')\n",
    "with open('./data1forEx1to4/train1_icu_data.csv') as xf:\n",
    "    xf_csv = csv.reader(xf)\n",
    "    # get headers\n",
    "    headersX = next(xf_csv)\n",
    "    print('-------------------------------feature counting-------------------------------------')\n",
    "    print('Totally %d features' % len(headersX),'included:\\n', headersX)\n",
    "    # get x values\n",
    "    for xrow in xf_csv:\n",
    "        trainX.append(xrow)\n",
    "    print('-------------------------------sample counting-------------------------------------')\n",
    "    print('There are totally %d samples for training' % len(trainX))"
   ]
  },
  {
   "cell_type": "code",
   "execution_count": 443,
   "metadata": {},
   "outputs": [
    {
     "name": "stdout",
     "output_type": "stream",
     "text": [
      "For label y:\n",
      "-------------------------------label counting-------------------------------------\n",
      "Totally 1 label included:\n",
      " ['hospital_death']\n",
      "-------------------------------sample counting-------------------------------------\n",
      "There are totally 5000 samples for training ，which has the same counting result as X\n"
     ]
    }
   ],
   "source": [
    "# load trainY\n",
    "trainY = []\n",
    "print('For label y:')\n",
    "with open('./data1forEx1to4/train1_icu_label.csv') as yf:\n",
    "    yf_csv = csv.reader(yf)\n",
    "    # get headers\n",
    "    headersY= next(yf_csv)\n",
    "    print('-------------------------------label counting-------------------------------------')\n",
    "    print('Totally %d label' % len(headersY),'included:\\n', headersY)\n",
    "    for yrow in yf_csv:\n",
    "        trainY.append(yrow)\n",
    "    print('-------------------------------sample counting-------------------------------------')\n",
    "    if len(trainY)==len(trainX):\n",
    "        print('There are totally %d samples for training' % len(trainY), '，which has the same counting result as X')\n",
    "    else:\n",
    "        print('Index error: X and Y have different sample size.')"
   ]
  },
  {
   "cell_type": "markdown",
   "metadata": {},
   "source": [
    "### (Extra) Normalize the data\n",
    "#### As we can see that the number scope of 108 features have large difference, do a normalization here to make them have the same order of magnitude, which is good for comprehensive comparison."
   ]
  },
  {
   "cell_type": "code",
   "execution_count": 444,
   "metadata": {},
   "outputs": [],
   "source": [
    "# 0-1 normalization\n",
    "AtrainX = np.array(trainX, dtype = 'float64')\n",
    "def maxminNorm(arrX):\n",
    "    maxi = np.max(arrX, axis=0)\n",
    "    mini = np.min(arrX, axis=0)\n",
    "    return (arrX-mini)/(maxi-mini)\n",
    "AtrainX = maxminNorm(AtrainX)"
   ]
  },
  {
   "cell_type": "markdown",
   "metadata": {},
   "source": [
    "### Step 2: Divide the feature X into two groups according to label Y\n",
    "#### label Y indicate the hospital_death, wich is the classification. So using the label difference to divide X into two groups. One group of people with feature X0 with hospital_death=0, and the other group of people with feature X1 with hospital_death=1."
   ]
  },
  {
   "cell_type": "code",
   "execution_count": 445,
   "metadata": {},
   "outputs": [
    {
     "name": "stdout",
     "output_type": "stream",
     "text": [
      "After division,\n",
      "We have a group of hospital_death(Ylabel)=0 with 2450 samples\n",
      "We have a group of hospital_death(Ylabel)=1 with 2550 samples\n"
     ]
    }
   ],
   "source": [
    "AtrainY = np.array(trainY, dtype = 'float64')\n",
    "AtrainY = AtrainY.reshape(len(trainY),)\n",
    "# make sure the number of 0,1 is not a string but a integer\n",
    "for i in range(len(trainY)):\n",
    "    AtrainY[i]=int(AtrainY[i])\n",
    "# division\n",
    "pos0 = np.where(AtrainY==0)\n",
    "AXneg = np.squeeze(AtrainX[pos0,:])\n",
    "pos1 = np.where(AtrainY==1)\n",
    "AXpos = np.squeeze(AtrainX[pos1,:])\n",
    "print('After division,')\n",
    "print('We have a group of hospital_death(Ylabel)=0 with %d samples' %AXneg.shape[0])\n",
    "print('We have a group of hospital_death(Ylabel)=1 with %d samples' %AXpos.shape[0])"
   ]
  },
  {
   "cell_type": "markdown",
   "metadata": {},
   "source": [
    "### Step 3: Matrix calculation\n",
    "#### Calculate within-class scatter matrix and Between-class scatter matrix for further FLD calculation"
   ]
  },
  {
   "cell_type": "code",
   "execution_count": 446,
   "metadata": {},
   "outputs": [
    {
     "name": "stdout",
     "output_type": "stream",
     "text": [
      "Sw is invertible\n"
     ]
    }
   ],
   "source": [
    "# calculate class mean\n",
    "mean0 = np.mean(AXneg, axis=0)\n",
    "mean1 = np.mean(AXpos, axis=0)\n",
    "Amean0 = mean0.reshape(mean0.shape[0],1)\n",
    "Amean1 = mean1.reshape(mean1.shape[0],1)\n",
    "# within-class scatter matrix, S1 for class 0, S2 for class 1\n",
    "S1 = np.dot((AXneg-mean0).transpose(), (AXneg-mean0))\n",
    "S2 = np.dot((AXpos-mean1).transpose(), (AXpos-mean1))\n",
    "Sw = S1 + S2  # (108, 108)\n",
    "# between-class scatter matrix\n",
    "Sb = np.dot((Amean0-Amean1), (Amean0-Amean1).transpose())  # (108, 108)\n",
    "\n",
    "# check whether Sw is invertible\n",
    "if np.linalg.det(Sw)!=0:\n",
    "    print('Sw is invertible')\n",
    "else:\n",
    "    print('Warning!!!Sw is noninvertible')"
   ]
  },
  {
   "cell_type": "markdown",
   "metadata": {},
   "source": [
    "### Step 4: Find the discriminant function\n",
    "#### find 𝒘∗ using the fomular that 𝒘∗ has the same direction as Sw<sup>-1</sup>(m<sub>1</sub>-m<sub>2</sub>)\n",
    "#### find 𝒘0 using the fomular that $𝒘0 = -\\frac {1}{2}（\\widetilde{m_1}+\\widetilde{m_2}）$"
   ]
  },
  {
   "cell_type": "code",
   "execution_count": 447,
   "metadata": {},
   "outputs": [
    {
     "name": "stdout",
     "output_type": "stream",
     "text": [
      "𝒘∗ for discriminant function has shape  (108, 1)\n",
      "w0 for discriminant function is\n",
      "[[3.71071967]]\n"
     ]
    }
   ],
   "source": [
    "# get 𝒘∗\n",
    "W = np.dot(np.linalg.inv(Sw),(Amean0-Amean1))\n",
    "Wabs = np.linalg.norm(W, axis=1, keepdims=True)\n",
    "W = W/Wabs\n",
    "print('𝒘∗ for discriminant function has shape ', W.shape)\n",
    "\n",
    "# get 𝒘0\n",
    "m1 = np.dot(W.transpose(), Amean0)\n",
    "m2 = np.dot(W.transpose(), Amean1)\n",
    "w0 = -1/2*(m1+m2)\n",
    "print('w0 for discriminant function is')\n",
    "print(w0)"
   ]
  },
  {
   "cell_type": "markdown",
   "metadata": {},
   "source": [
    "### Step 5: Training result"
   ]
  },
  {
   "cell_type": "code",
   "execution_count": 448,
   "metadata": {},
   "outputs": [
    {
     "data": {
      "image/png": "[encoded data removed]",
      "text/plain": [
       "<Figure size 1080x360 with 1 Axes>"
      ]
     },
     "metadata": {
      "needs_background": "light"
     },
     "output_type": "display_data"
    }
   ],
   "source": [
    "# result>1, class 0; result<1, class 1\n",
    "classa = np.matrix(AXneg).dot(W)+w0\n",
    "classb = np.matrix(AXpos).dot(W)+w0\n",
    "\n",
    "# plot result\n",
    "plt.rcParams['figure.figsize'] = (15, 5)\n",
    "f = plt.figure()\n",
    "\n",
    "f.add_subplot(1,2,1)\n",
    "sns.distplot(classa, kde=False,color= \"orange\", label='class 0')\n",
    "plt.xticks(fontsize=16)\n",
    "plt.yticks(fontsize=16)\n",
    "\n",
    "f.add_subplot(1,2,1)\n",
    "sns.distplot(classb,kde=False, label='class 1')\n",
    "plt.ylabel(\"Frequency\", fontsize=12)\n",
    "plt.xticks(fontsize=16)\n",
    "plt.yticks(fontsize=16)\n",
    "plt.title(\"Class result after FLD\", fontsize=12)\n",
    "plt.legend()\n",
    "plt.show()"
   ]
  },
  {
   "cell_type": "markdown",
   "metadata": {},
   "source": [
    "### Step 6: Tesing result\n",
    "#### including 1) load data, 2) get test accuracy"
   ]
  },
  {
   "cell_type": "code",
   "execution_count": 449,
   "metadata": {},
   "outputs": [
    {
     "name": "stdout",
     "output_type": "stream",
     "text": [
      "There are totally 1097 samples for testing\n",
      "Test data load successfully\n"
     ]
    }
   ],
   "source": [
    "# load X features\n",
    "testX = []\n",
    "with open('./data1forEx1to4/test1_icu_data.csv') as testxf:\n",
    "    txf_csv = csv.reader(testxf)\n",
    "    # get headers\n",
    "    theadersX = next(txf_csv)\n",
    "    # get x values\n",
    "    for txrow in txf_csv:\n",
    "        testX.append(xrow)\n",
    "# load Y features\n",
    "testY = []\n",
    "with open('./data1forEx1to4/test1_icu_label.csv') as testyf:\n",
    "    tyf_csv = csv.reader(testyf)\n",
    "    # get headers\n",
    "    theadersY= next(tyf_csv)\n",
    "    for tyrow in tyf_csv:\n",
    "        testY.append(tyrow)\n",
    "    if len(testY)==len(testX):\n",
    "        print('There are totally %d samples for testing' % len(testY))\n",
    "    else:\n",
    "        print('Index error: X and Y have different sample size.')\n",
    "print('Test data load successfully')"
   ]
  },
  {
   "cell_type": "code",
   "execution_count": 450,
   "metadata": {},
   "outputs": [
    {
     "name": "stdout",
     "output_type": "stream",
     "text": [
      "Error rate of FLD discriminant function is 0.49863\n"
     ]
    }
   ],
   "source": [
    "# get test accuracy\n",
    "AtestX = np.array(testX, dtype='float64')\n",
    "AtestY = np.array(testY, dtype='float64')\n",
    "AtestY = AtestY.reshape(len(testY),)\n",
    "\n",
    "tpos0 = np.where(AtestY==0)\n",
    "tAXneg = np.squeeze(AtestX[tpos0,:])\n",
    "tpos1 = np.where(AtestY==1)\n",
    "tAXpos = np.squeeze(AtestX[tpos1,:])\n",
    "\n",
    "tclassa = np.matrix(tAXneg).dot(W)+w0\n",
    "tclassb = np.matrix(tAXpos).dot(W)+w0\n",
    "\n",
    "# counting\n",
    "k=0\n",
    "for i in range(tclassa.shape[0]):\n",
    "    if tclassa[i]>0:\n",
    "        k=k+1\n",
    "for j in range(tclassb.shape[0]):\n",
    "    if tclassb[j]<0:\n",
    "        k=k+1\n",
    "print('Error rate of FLD discriminant function is %.5f' % (k/len(testY)))"
   ]
  },
  {
   "cell_type": "markdown",
   "metadata": {},
   "source": [
    "### Conclusion of Experiment 1 (FLD)\n",
    "#### During experiment 1, the steps for calculate the discriminant function using FLD are:\n",
    "1) Import training data and normalization <br>\n",
    "2) Divide the feature X into two groups according to label Y <br>\n",
    "3) Calculate the (a) within-class scatter matrix and (b) between-class scatter matrix <br>\n",
    "4) Using formula (a) 𝒘∗∝Sw<sup>-1</sup>(m<sub>1</sub>-m<sub>2</sub> and (b) $𝒘0 = -\\frac {1}{2} \\widetilde{m_1}+\\widetilde{m_2}）$ to calculate discriminant function <br>\n",
    "5) And I also add a visible plot of the discriminant function result for training data <br>\n",
    "#### The steps for applying the discriminant function on TestSet-1 calculate the error rate are:\n",
    "1) load data <br>\n",
    "2) get error rate, which is $e={k\\over N}$=0.4986, where k is thenumber of error and N is the number of testing samples. \n",
    "#### The result shows that FLD result is not good. "
   ]
  },
  {
   "cell_type": "code",
   "execution_count": 451,
   "metadata": {},
   "outputs": [],
   "source": [
    "# As the requirment says \"Find public packages for Perceptron and Logistic Regression (LR)\"\n",
    "# import more libraries\n",
    "from sklearn.linear_model import Perceptron\n",
    "from sklearn.linear_model import LogisticRegression\n",
    "from sklearn.model_selection import cross_val_score\n",
    "from sklearn.metrics import roc_curve, auc"
   ]
  },
  {
   "cell_type": "markdown",
   "metadata": {},
   "source": [
    "## Experiment 2 (Perceptron):\n",
    "#### 1) Use TrainingSet-1 to train the Perceptron classifier. Calculate the training error and cross validation error on the training set. Apply the trained Perceptron to TestSet-1. Compare the training error rate, cross-validation error rate and test error rate.\n",
    "#### 2) Use TrainingSet-2 to train the Perceptron classifier. Apply the Perceptron trained with TrainingSet-2 to TestSet-1 and TestSet-2, respectively. Compare the error rates.\n",
    "#### 3) Discuss your observations on the results.\n",
    "\n",
    "## 1）Use TrainingSet-1 to train the Perceptron classifier.\n",
    "### Step 1: Import data \n",
    "#### Include training data in 'train1_icu_data.csv' as train1X, and 'train1_icu_label.csv' as tarin1Y\n",
    "#### And testing data in  'test1_icu_data.csv' as test1X, and 'test1_icu_label.csv' as test1Y"
   ]
  },
  {
   "cell_type": "code",
   "execution_count": 452,
   "metadata": {},
   "outputs": [
    {
     "name": "stdout",
     "output_type": "stream",
     "text": [
      "For feature x:\n",
      "-------------------------------feature counting-------------------------------------\n",
      "Totally 108 features\n",
      "-------------------------------sample counting-------------------------------------\n",
      "There are totally 5000 samples for training\n"
     ]
    }
   ],
   "source": [
    "# load trainX\n",
    "train1X = []\n",
    "print('For feature x:')\n",
    "with open('./data1forEx1to4/train1_icu_data.csv') as x1f:\n",
    "    x1f_csv = csv.reader(x1f)\n",
    "    # get headers\n",
    "    headers1X = next(x1f_csv)\n",
    "    print('-------------------------------feature counting-------------------------------------')\n",
    "    print('Totally %d features' % len(headers1X))\n",
    "    # get x values\n",
    "    for x1row in x1f_csv:\n",
    "        train1X.append(x1row)\n",
    "    print('-------------------------------sample counting-------------------------------------')\n",
    "    print('There are totally %d samples for training' % len(train1X))"
   ]
  },
  {
   "cell_type": "code",
   "execution_count": 453,
   "metadata": {},
   "outputs": [
    {
     "name": "stdout",
     "output_type": "stream",
     "text": [
      "For label y:\n",
      "-------------------------------label counting-------------------------------------\n",
      "Totally 1 label included:\n",
      " ['hospital_death']\n",
      "-------------------------------sample counting-------------------------------------\n",
      "There are totally 5000 samples for training ，which has the same counting result as X\n"
     ]
    }
   ],
   "source": [
    "# load trainY\n",
    "train1Y = []\n",
    "print('For label y:')\n",
    "with open('./data1forEx1to4/train1_icu_label.csv') as y1f:\n",
    "    y1f_csv = csv.reader(y1f)\n",
    "    # get headers\n",
    "    headers1Y= next(y1f_csv)\n",
    "    print('-------------------------------label counting-------------------------------------')\n",
    "    print('Totally %d label' % len(headers1Y),'included:\\n', headers1Y)\n",
    "    for y1row in y1f_csv:\n",
    "        train1Y.append(y1row)\n",
    "    print('-------------------------------sample counting-------------------------------------')\n",
    "    if len(train1Y)==len(train1X):\n",
    "        print('There are totally %d samples for training' % len(train1Y), '，which has the same counting result as X')\n",
    "    else:\n",
    "        print('Index error: X and Y have different sample size.')"
   ]
  },
  {
   "cell_type": "code",
   "execution_count": 454,
   "metadata": {},
   "outputs": [
    {
     "name": "stdout",
     "output_type": "stream",
     "text": [
      "There are totally 1097 samples for testing\n",
      "Test data load successfully\n"
     ]
    }
   ],
   "source": [
    "# load test data\n",
    "# load X features\n",
    "test1X = []\n",
    "with open('./data1forEx1to4/test1_icu_data.csv') as test1xf:\n",
    "    t1xf_csv = csv.reader(test1xf)\n",
    "    # get headers\n",
    "    theaders1X = next(t1xf_csv)\n",
    "    # get X values\n",
    "    for t1xrow in t1xf_csv:\n",
    "        test1X.append(t1xrow)\n",
    "# load Y features\n",
    "test1Y = []\n",
    "with open('./data1forEx1to4/test1_icu_label.csv') as test1yf:\n",
    "    t1yf_csv = csv.reader(test1yf)\n",
    "    # get headers\n",
    "    theaders1Y= next(t1yf_csv)\n",
    "    # get Y value\n",
    "    for t1yrow in t1yf_csv:\n",
    "        test1Y.append(t1yrow)\n",
    "    if len(test1Y)==len(test1X):\n",
    "        print('There are totally %d samples for testing' % len(test1Y))\n",
    "    else:\n",
    "        print('Index error: X and Y have different sample size.')\n",
    "print('Test data load successfully')"
   ]
  },
  {
   "cell_type": "markdown",
   "metadata": {},
   "source": [
    "### Step 2: Define and train a Perceptron\n",
    "#### Train a Perceptron model with TrainingSet-1"
   ]
  },
  {
   "cell_type": "code",
   "execution_count": 455,
   "metadata": {},
   "outputs": [],
   "source": [
    "# define a Perceptron\n",
    "clf1 = Perceptron(fit_intercept=True, max_iter=10, shuffle=False)\n",
    "# train a Perceptron\n",
    "Atrain1X = np.array(train1X, dtype = 'float64')\n",
    "Atrain1Y = np.array(train1Y, dtype = 'float64')\n",
    "clf1.fit(train1X, train1Y)\n",
    "# training result of w* and b\n",
    "W1 = clf1.coef_[0]\n",
    "b1 = clf1.intercept_"
   ]
  },
  {
   "cell_type": "markdown",
   "metadata": {},
   "source": [
    "### Step 3: Define a errorRate function to calculate error rate for both training and testing data"
   ]
  },
  {
   "cell_type": "code",
   "execution_count": 456,
   "metadata": {},
   "outputs": [],
   "source": [
    "# define error rate equation\n",
    "def errorRate(X, Y, w, b):\n",
    "    error = 0\n",
    "    w = w.reshape(w.shape[0],1)\n",
    "    yPred = np.matrix(X).dot(w)+b\n",
    "    yPred = np.sign(yPred)\n",
    "    tpos0 = np.where(Y==0)\n",
    "    tpos0 = np.array(tpos0)\n",
    "    tpos1 = np.where(Y==1)\n",
    "    tpos1 = np.array(tpos1)\n",
    "    for i in range(tpos0.shape[1]):\n",
    "        if yPred[tpos0[0][i]] != -1:\n",
    "            error = error + 1\n",
    "    for j in range(tpos1.shape[1]):\n",
    "        if yPred[tpos1[0][j]] != 1:\n",
    "            error = error + 1\n",
    "    return error/X.shape[0]"
   ]
  },
  {
   "cell_type": "markdown",
   "metadata": {},
   "source": [
    "### Step 4: Calculate training error rate, cross-validation error and test error rate\n",
    "#### Calculate the three value independently in three code blocks"
   ]
  },
  {
   "cell_type": "code",
   "execution_count": 457,
   "metadata": {},
   "outputs": [
    {
     "name": "stdout",
     "output_type": "stream",
     "text": [
      "Training error rate:\n",
      "Error rate of Perceptron trained by TrainingSet-1 is 0.27300\n"
     ]
    }
   ],
   "source": [
    "# calculate training error rate\n",
    "trainError = errorRate(Atrain1X, Atrain1Y, W1, b1)\n",
    "print('Training error rate:')\n",
    "print('Error rate of Perceptron trained by TrainingSet-1 is %.5f' %trainError)"
   ]
  },
  {
   "cell_type": "code",
   "execution_count": 458,
   "metadata": {},
   "outputs": [
    {
     "name": "stdout",
     "output_type": "stream",
     "text": [
      "There are totally 10-fold cross validation, cross validation scores are  [0.642 0.624 0.554 0.652 0.75  0.71  0.576 0.744 0.668 0.51 ] independently\n",
      "Therefore, the mean cross validation error is 0.35700\n"
     ]
    }
   ],
   "source": [
    "# cross validation\n",
    "Atrain1X = np.array(train1X, dtype = 'float64')\n",
    "Atrain1Y = np.array(train1Y, dtype = 'float64')\n",
    "Atrain1Y = Atrain1Y.reshape(len(train1Y),)\n",
    "# make sure the number of 0,1 is not a string but a integer\n",
    "for i in range(len(train1Y)):\n",
    "    Atrain1Y[i]=int(Atrain1Y[i])\n",
    "scores = cross_val_score(clf1, Atrain1X, Atrain1Y, cv=10, scoring='accuracy')\n",
    "errorMean = 1-np.mean(scores)\n",
    "print('There are totally 10-fold cross validation, cross validation scores are ', scores, 'independently')\n",
    "print('Therefore, the mean cross validation error is %.5f' % errorMean)"
   ]
  },
  {
   "cell_type": "code",
   "execution_count": 459,
   "metadata": {},
   "outputs": [
    {
     "name": "stdout",
     "output_type": "stream",
     "text": [
      "Testing error rate:\n",
      "Error rate of Perceptron trained by TrainingSet-1 is 0.27803\n"
     ]
    }
   ],
   "source": [
    "# calculate testing error rate\n",
    "Atest1X = np.array(test1X, dtype = 'float64')\n",
    "Atest1Y = np.array(test1Y, dtype = 'float64')\n",
    "for i in range(len(test1Y)):\n",
    "    Atest1Y[i][0]=int(Atest1Y[i][0])\n",
    "testError = errorRate(Atest1X, Atest1Y, W1, b1)\n",
    "print('Testing error rate:')\n",
    "print('Error rate of Perceptron trained by TrainingSet-1 is %.5f' %testError)"
   ]
  },
  {
   "cell_type": "markdown",
   "metadata": {},
   "source": [
    "### Conclusion\n",
    "#### The training error rate is 0.27300, cross validation error is 0.35700, and testing error rate is 0.27803\n",
    "#### We can see that the error rates in training set and testing set are almost the same (training is slightly lower than testing), which means the classifier has a good generalization performance. <br>And cross validation error is and approximation of testing error rate based on training data, but here maybe because when divided the training data into 10 groups, the amount training data decrease, so the value is higher than the other two."
   ]
  },
  {
   "cell_type": "markdown",
   "metadata": {},
   "source": [
    "## 2）Use TrainingSet-2 to train the Perceptron classifier.\n",
    "### Step 1: Import data \n",
    "#### Include data in 'train2_icu_data.csv' as train2X, and 'train2_icu_label.csv' as tarin2Y\n",
    "#### And  testing data in 'test2_icu_data.csv' as test2X, and 'test2_icu_label.csv' as test2Y"
   ]
  },
  {
   "cell_type": "code",
   "execution_count": 460,
   "metadata": {},
   "outputs": [
    {
     "name": "stdout",
     "output_type": "stream",
     "text": [
      "For feature x:\n",
      "-------------------------------feature counting-------------------------------------\n",
      "Totally 108 features\n",
      "-------------------------------sample counting-------------------------------------\n",
      "There are totally 1475 samples for training\n"
     ]
    }
   ],
   "source": [
    "# load trainX\n",
    "train2X = []\n",
    "print('For feature x:')\n",
    "with open('./data1forEx1to4/train2_icu_data.csv') as x2f:\n",
    "    x2f_csv = csv.reader(x2f)\n",
    "    # get headers\n",
    "    headers2X = next(x2f_csv)\n",
    "    print('-------------------------------feature counting-------------------------------------')\n",
    "    print('Totally %d features' % len(headers2X))\n",
    "    # get x values\n",
    "    for x2row in x2f_csv:\n",
    "        train2X.append(x2row)\n",
    "    print('-------------------------------sample counting-------------------------------------')\n",
    "    print('There are totally %d samples for training' % len(train2X))"
   ]
  },
  {
   "cell_type": "code",
   "execution_count": 461,
   "metadata": {},
   "outputs": [
    {
     "name": "stdout",
     "output_type": "stream",
     "text": [
      "For label y:\n",
      "-------------------------------label counting-------------------------------------\n",
      "Totally 1 label included:\n",
      " ['hospital_death']\n",
      "-------------------------------sample counting-------------------------------------\n",
      "There are totally 1475 samples for training ，which has the same counting result as X\n"
     ]
    }
   ],
   "source": [
    "# load trainY\n",
    "train2Y = []\n",
    "print('For label y:')\n",
    "with open('./data1forEx1to4/train2_icu_label.csv') as y2f:\n",
    "    y2f_csv = csv.reader(y2f)\n",
    "    # get headers\n",
    "    headers2Y= next(y2f_csv)\n",
    "    print('-------------------------------label counting-------------------------------------')\n",
    "    print('Totally %d label' % len(headers2Y),'included:\\n', headers2Y)\n",
    "    for y2row in y2f_csv:\n",
    "        train2Y.append(y2row)\n",
    "    print('-------------------------------sample counting-------------------------------------')\n",
    "    if len(train2Y)==len(train2X):\n",
    "        print('There are totally %d samples for training' % len(train2Y), '，which has the same counting result as X')\n",
    "    else:\n",
    "        print('Index error: X and Y have different sample size.')"
   ]
  },
  {
   "cell_type": "code",
   "execution_count": 462,
   "metadata": {},
   "outputs": [
    {
     "name": "stdout",
     "output_type": "stream",
     "text": [
      "There are totally 450 samples for testing\n",
      "Test data load successfully\n"
     ]
    }
   ],
   "source": [
    "# load test data\n",
    "# load X features\n",
    "test2X = []\n",
    "with open('./data1forEx1to4/test2_icu_data.csv') as test2xf:\n",
    "    t2xf_csv = csv.reader(test2xf)\n",
    "    # get headers\n",
    "    theaders2X = next(t2xf_csv)\n",
    "    # get X values\n",
    "    for t2xrow in t2xf_csv:\n",
    "        test2X.append(t2xrow)\n",
    "# load Y features\n",
    "test2Y = []\n",
    "with open('./data1forEx1to4/test2_icu_label.csv') as test2yf:\n",
    "    t2yf_csv = csv.reader(test2yf)\n",
    "    # get headers\n",
    "    theaders2Y= next(t2yf_csv)\n",
    "    # get Y value\n",
    "    for t2yrow in t2yf_csv:\n",
    "        test2Y.append(t2yrow)\n",
    "    if len(test2Y)==len(test2X):\n",
    "        print('There are totally %d samples for testing' % len(test2Y))\n",
    "    else:\n",
    "        print('Index error: X and Y have different sample size.')\n",
    "print('Test data load successfully')"
   ]
  },
  {
   "cell_type": "markdown",
   "metadata": {},
   "source": [
    "### Step 2: Define and train a Perceptron\n",
    "#### Train a Perceptron model with TrainingSet-2"
   ]
  },
  {
   "cell_type": "code",
   "execution_count": 463,
   "metadata": {},
   "outputs": [],
   "source": [
    "# define a Perceptron\n",
    "clf2 = Perceptron(fit_intercept=True, max_iter=10, shuffle=False)\n",
    "# train a Perceptron\n",
    "Atrain2X = np.array(train2X, dtype = 'float64')\n",
    "Atrain2Y = np.array(train2Y, dtype = 'float64')\n",
    "clf2.fit(train2X, train2Y)\n",
    "# training result of w* and b\n",
    "W2 = clf2.coef_[0]\n",
    "b2 = clf2.intercept_"
   ]
  },
  {
   "cell_type": "markdown",
   "metadata": {},
   "source": [
    "### Step 3: Define a errorRate function to calculate error rate for both training and testing data"
   ]
  },
  {
   "cell_type": "code",
   "execution_count": 464,
   "metadata": {},
   "outputs": [],
   "source": [
    "# define error rate equation\n",
    "def errorRate(X, Y, w, b):\n",
    "    error = 0\n",
    "    w = w.reshape(w.shape[0],1)\n",
    "    yPred = np.matrix(X).dot(w)+b\n",
    "    yPred = np.sign(yPred)\n",
    "    tpos0 = np.where(Y==0)\n",
    "    tpos0 = np.array(tpos0)\n",
    "    tpos1 = np.where(Y==1)\n",
    "    tpos1 = np.array(tpos1)\n",
    "    for i in range(tpos0.shape[1]):\n",
    "        if yPred[tpos0[0][i]] != -1:\n",
    "            error = error + 1\n",
    "    for j in range(tpos1.shape[1]):\n",
    "        if yPred[tpos1[0][j]] != 1:\n",
    "            error = error + 1\n",
    "    return error/X.shape[0]"
   ]
  },
  {
   "cell_type": "markdown",
   "metadata": {},
   "source": [
    "### Step 4: Calculate training error rate, cross-validation error and test error rate\n",
    "#### Calculate the three value independently in three code blocks"
   ]
  },
  {
   "cell_type": "code",
   "execution_count": 465,
   "metadata": {},
   "outputs": [
    {
     "name": "stdout",
     "output_type": "stream",
     "text": [
      "Training error rate:\n",
      "Error rate of Perceptron trained by TrainingSet-1 is 0.19458\n"
     ]
    }
   ],
   "source": [
    "# calculate training error rate\n",
    "trainError2 = errorRate(Atrain2X, Atrain2Y, W2, b2)\n",
    "print('Training error rate:')\n",
    "print('Error rate of Perceptron trained by TrainingSet-1 is %.5f' %trainError2)"
   ]
  },
  {
   "cell_type": "code",
   "execution_count": 466,
   "metadata": {},
   "outputs": [
    {
     "name": "stdout",
     "output_type": "stream",
     "text": [
      "There are totally 10-fold cross validation, cross validation scores are  [0.87248322 0.84563758 0.81081081 0.76870748 0.80952381 0.7755102\n",
      " 0.79591837 0.78911565 0.80952381 0.72789116] independently\n",
      "Therefore, the mean cross validation error is 0.19949\n"
     ]
    }
   ],
   "source": [
    "# cross validation\n",
    "Atrain2X = np.array(train2X, dtype = 'float64')\n",
    "Atrain2Y = np.array(train2Y, dtype = 'float64')\n",
    "Atrain2Y = Atrain2Y.reshape(len(train2Y),)\n",
    "# make sure the number of 0,1 is not a string but a integer\n",
    "for i in range(len(train2Y)):\n",
    "    Atrain2Y[i]=int(Atrain2Y[i])\n",
    "scores2 = cross_val_score(clf2, Atrain2X, Atrain2Y, cv=10, scoring='accuracy')\n",
    "errorMean2 = 1-np.mean(scores2)\n",
    "print('There are totally 10-fold cross validation, cross validation scores are ', scores2, 'independently')\n",
    "print('Therefore, the mean cross validation error is %.5f' % errorMean2)"
   ]
  },
  {
   "cell_type": "code",
   "execution_count": 467,
   "metadata": {},
   "outputs": [
    {
     "name": "stdout",
     "output_type": "stream",
     "text": [
      "Testing error rate:\n",
      "Error rate of Perceptron trained by TrainingSet-1 is 0.23778\n"
     ]
    }
   ],
   "source": [
    "# calculate testing error rate\n",
    "Atest2X = np.array(test2X, dtype = 'float64')\n",
    "Atest2Y = np.array(test2Y, dtype = 'float64')\n",
    "for i in range(len(test2Y)):\n",
    "    Atest2Y[i][0]=int(Atest2Y[i][0])\n",
    "testError2 = errorRate(Atest2X, Atest2Y, W2, b2)\n",
    "print('Testing error rate:')\n",
    "print('Error rate of Perceptron trained by TrainingSet-1 is %.5f' %testError2)"
   ]
  },
  {
   "cell_type": "markdown",
   "metadata": {},
   "source": [
    "### Conclusion\n",
    "#### The training error rate is 0.19458, cross validation error is 0.19949, and testing error rate is 0.23778\n",
    "#### We can see that the error rates in training set and cross validation error are almost the same (training is slightly lower than cross validation), which means the classifier has a good generalization performance see from the 0.005 difference. <br>But the testing error is higher than the other two by approximately 0.038, which means the classifier is still a little bit weak on the data that haven't seen before."
   ]
  },
  {
   "cell_type": "markdown",
   "metadata": {},
   "source": [
    "## 3）Discuss observations on the results\n",
    "#### The result shows that the error rates onTrainingSet-2 are smaller than that on TrainingSet-1. <br>As Perceptron shows different error rate on different datasets, it proves that TrainingSet-2 is better than TrainingSet-1, when doing the classification of 'hospital_death'. For training, TrainingSet-2 performs better."
   ]
  },
  {
   "cell_type": "markdown",
   "metadata": {},
   "source": [
    "## Experiment 3 (LR):\n",
    "#### 1) Use TrainingSet-1 to train the classifier with Logistic Regression. Calculate the training error and cross validation error on the training set. Apply the trained classifier on TestSet-1. Calculate the test error.\n",
    "#### 2) Using Python package matplotlib to draw the ROC curve according to the test results.\n",
    "#### 3) Analyze the significance of association between each feature and patients’ survival. You may need to study some materials beyond the course content by yourself (hints: you may refer to available Python packages like statsmodels).\n",
    "## 1）Use TrainingSet-1 to train the classifier with Logistic Regression.\n",
    "### Step 1: Import data \n",
    "#### Include training data in 'train1_icu_data.csv' as train1X, and 'train1_icu_label.csv' as tarin1Y\n",
    "#### And testing data in  'test1_icu_data.csv' as test1X, and 'test1_icu_label.csv' as test1Y"
   ]
  },
  {
   "cell_type": "code",
   "execution_count": 468,
   "metadata": {},
   "outputs": [
    {
     "name": "stdout",
     "output_type": "stream",
     "text": [
      "Training data:\n",
      "For feature x:\n",
      "-------------------------------feature counting-------------------------------------\n",
      "Totally 108 features\n",
      "-------------------------------sample counting-------------------------------------\n",
      "There are totally 5000 samples for training\n",
      "For label y:\n",
      "-------------------------------label counting-------------------------------------\n",
      "Totally 1 label included:\n",
      " ['hospital_death']\n",
      "-------------------------------sample counting-------------------------------------\n",
      "There are totally 5000 samples for training ，which has the same counting result as X\n"
     ]
    }
   ],
   "source": [
    "print('Training data:')\n",
    "# load trainX\n",
    "train1X = []\n",
    "print('For feature x:')\n",
    "with open('./data1forEx1to4/train1_icu_data.csv') as x1f:\n",
    "    x1f_csv = csv.reader(x1f)\n",
    "    # get headers\n",
    "    headers1X = next(x1f_csv)\n",
    "    print('-------------------------------feature counting-------------------------------------')\n",
    "    print('Totally %d features' % len(headers1X))\n",
    "    # get x values\n",
    "    for x1row in x1f_csv:\n",
    "        train1X.append(x1row)\n",
    "    print('-------------------------------sample counting-------------------------------------')\n",
    "    print('There are totally %d samples for training' % len(train1X))\n",
    "# load trainY\n",
    "train1Y = []\n",
    "print('For label y:')\n",
    "with open('./data1forEx1to4/train1_icu_label.csv') as y1f:\n",
    "    y1f_csv = csv.reader(y1f)\n",
    "    # get headers\n",
    "    headers1Y= next(y1f_csv)\n",
    "    print('-------------------------------label counting-------------------------------------')\n",
    "    print('Totally %d label' % len(headers1Y),'included:\\n', headers1Y)\n",
    "    for y1row in y1f_csv:\n",
    "        train1Y.append(y1row)\n",
    "    print('-------------------------------sample counting-------------------------------------')\n",
    "    if len(train1Y)==len(train1X):\n",
    "        print('There are totally %d samples for training' % len(train1Y), '，which has the same counting result as X')\n",
    "    else:\n",
    "        print('Index error: X and Y have different sample size.')\n",
    "Atrain1X = np.array(train1X, dtype = 'float64')\n",
    "Atrain1Y = np.array(train1Y, dtype = 'float64')\n",
    "Atrain1Y = Atrain1Y.reshape(len(train1Y),)\n",
    "# make sure the number of 0,1 is not a string but a integer\n",
    "for i in range(len(train1Y)):\n",
    "    Atrain1Y[i]=int(Atrain1Y[i])"
   ]
  },
  {
   "cell_type": "code",
   "execution_count": 469,
   "metadata": {},
   "outputs": [
    {
     "name": "stdout",
     "output_type": "stream",
     "text": [
      "Testing data:\n",
      "There are totally 1097 samples for testing\n",
      "Test data load successfully\n"
     ]
    }
   ],
   "source": [
    "print('Testing data:')\n",
    "# load test data\n",
    "# load X features\n",
    "test1X = []\n",
    "with open('./data1forEx1to4/test1_icu_data.csv') as test1xf:\n",
    "    t1xf_csv = csv.reader(test1xf)\n",
    "    # get headers\n",
    "    theaders1X = next(t1xf_csv)\n",
    "    # get X values\n",
    "    for t1xrow in t1xf_csv:\n",
    "        test1X.append(t1xrow)\n",
    "# load Y features\n",
    "test1Y = []\n",
    "with open('./data1forEx1to4/test1_icu_label.csv') as test1yf:\n",
    "    t1yf_csv = csv.reader(test1yf)\n",
    "    # get headers\n",
    "    theaders1Y= next(t1yf_csv)\n",
    "    # get Y value\n",
    "    for t1yrow in t1yf_csv:\n",
    "        test1Y.append(t1yrow)\n",
    "    if len(test1Y)==len(test1X):\n",
    "        print('There are totally %d samples for testing' % len(test1Y))\n",
    "    else:\n",
    "        print('Index error: X and Y have different sample size.')\n",
    "print('Test data load successfully')\n",
    "Atest1X = np.array(test1X, dtype = 'float64')\n",
    "Atest1Y = np.array(test1Y, dtype = 'float64')\n",
    "for i in range(len(test1Y)):\n",
    "    Atest1Y[i][0]=int(Atest1Y[i][0])"
   ]
  },
  {
   "cell_type": "markdown",
   "metadata": {},
   "source": [
    "### Step 2: Define and train a classifier with Logistic Regression\n",
    "#### Train a classifier with TrainingSet-1"
   ]
  },
  {
   "cell_type": "code",
   "execution_count": 470,
   "metadata": {},
   "outputs": [],
   "source": [
    "# train a classifier lr\n",
    "lr = LogisticRegression()\n",
    "lr.fit(Atrain1X, Atrain1Y)\n",
    "Wl = lr.coef_\n",
    "bl = lr.intercept_"
   ]
  },
  {
   "cell_type": "markdown",
   "metadata": {},
   "source": [
    "### Step 3: Calculate training error rate, cross-validation error and test error rate\n",
    "#### Calculate the three value independently in three code blocks"
   ]
  },
  {
   "cell_type": "code",
   "execution_count": 471,
   "metadata": {},
   "outputs": [
    {
     "name": "stdout",
     "output_type": "stream",
     "text": [
      "-------------------------------Training-------------------------------------\n",
      "Training score is  0.7962\n",
      "So, training error is 0.20380 \n",
      "-------------------------------Cross validation-------------------------------------\n",
      "There are totally 10-fold cross validation, cross validation scores are  [0.794 0.764 0.802 0.768 0.822 0.804 0.778 0.794 0.76  0.786] independently\n",
      "Therefore, the mean cross validation error is 0.21280\n",
      "-------------------------------Testing-------------------------------------\n",
      "Testing score is 0.78760\n",
      "So, testing error is 0.21240\n"
     ]
    }
   ],
   "source": [
    "# training error\n",
    "sore1 = lr.score(Atrain1X, Atrain1Y)\n",
    "print('-------------------------------Training-------------------------------------')\n",
    "print('Training score is ', sore1)\n",
    "print('So, training error is %.5f ' %(1-sore1))\n",
    "\n",
    "# cross validation\n",
    "scoreslr = cross_val_score(lr, Atrain1X, Atrain1Y, cv=10, scoring='accuracy')\n",
    "errorMeanlr = 1-np.mean(scoreslr)\n",
    "print('-------------------------------Cross validation-------------------------------------')\n",
    "print('There are totally 10-fold cross validation, cross validation scores are ', scoreslr, 'independently')\n",
    "print('Therefore, the mean cross validation error is %.5f' % errorMeanlr)\n",
    "\n",
    "# testing error\n",
    "sore2 = lr.score(Atest1X, Atest1Y)\n",
    "print('-------------------------------Testing-------------------------------------')\n",
    "print('Testing score is %.5f' %sore2)\n",
    "print('So, testing error is %.5f' %(1-sore2))"
   ]
  },
  {
   "cell_type": "markdown",
   "metadata": {},
   "source": [
    "## 2) Draw the ROC curve according to the test results"
   ]
  },
  {
   "cell_type": "code",
   "execution_count": 472,
   "metadata": {},
   "outputs": [
    {
     "name": "stdout",
     "output_type": "stream",
     "text": [
      "Area Under ROC Curve is 0.79\n"
     ]
    },
    {
     "data": {
      "image/png": "[encoded data removed]",
      "text/plain": [
       "<Figure size 1080x360 with 1 Axes>"
      ]
     },
     "metadata": {
      "needs_background": "light"
     },
     "output_type": "display_data"
    }
   ],
   "source": [
    "# do prediction and calculation\n",
    "pre_result = lr.predict(Atest1X)\n",
    "fpr, tpr, threshold = roc_curve(Atest1Y, pre_result)\n",
    "rocauc = auc(fpr, tpr)\n",
    "print('Area Under ROC Curve is %0.2f' % rocauc)\n",
    "\n",
    "# draw ROC curve and show calculation result\n",
    "plt.rcParams['figure.figsize'] = (15, 5)\n",
    "f = plt.figure()\n",
    "f.add_subplot(1,2,1)\n",
    "plt.plot(fpr, tpr, 'b', label='ROC{AUC = %0.2f}' % rocauc)\n",
    "plt.legend(loc='lower right')\n",
    "plt.plot([0, 1], [0, 1], 'r--')\n",
    "plt.xlim([0, 1])\n",
    "plt.ylim([0, 1])\n",
    "plt.title('ROC Curve')\n",
    "plt.ylabel('True Positive Rate')\n",
    "plt.xlabel('False Positive Rate')\n",
    "plt.show()"
   ]
  },
  {
   "cell_type": "markdown",
   "metadata": {},
   "source": [
    "## 3) Analyze the significance of association between each feature and patients’ survival\n",
    "#### Using the principle of  <strong>*covariance*</strong>, that the larger the absolute value of the covariance, the more the two variance affect each other. (positive covariance means positive effect, while negative covariance means negative effect)"
   ]
  },
  {
   "cell_type": "code",
   "execution_count": 473,
   "metadata": {},
   "outputs": [],
   "source": [
    "covList = []\n",
    "for i in range(AtrainX.shape[1]):\n",
    "    covList.append(np.cov(AtrainX[:,i],AtrainY)[1][0])"
   ]
  },
  {
   "cell_type": "code",
   "execution_count": 474,
   "metadata": {},
   "outputs": [
    {
     "data": {
      "image/png": "[encoded data removed]",
      "text/plain": [
       "<Figure size 1440x360 with 1 Axes>"
      ]
     },
     "metadata": {
      "needs_background": "light"
     },
     "output_type": "display_data"
    }
   ],
   "source": [
    "# counte and plot counting result\n",
    "plt.rcParams['figure.figsize'] = (20, 5)\n",
    "f = plt.figure()\n",
    "f.add_subplot(1,2,1)\n",
    "sns.distplot(covList, kde=False, label='counting')\n",
    "plt.xlim([-0.1, 0.1])\n",
    "plt.xticks(fontsize=15)\n",
    "plt.yticks(fontsize=15)\n",
    "plt.title('Counting the covariance distribution')\n",
    "plt.ylabel('Frequency(counting number)',fontsize=15)\n",
    "plt.xlabel('Covariance',fontsize=15)\n",
    "plt.show()"
   ]
  },
  {
   "cell_type": "code",
   "execution_count": 475,
   "metadata": {},
   "outputs": [
    {
     "name": "stdout",
     "output_type": "stream",
     "text": [
      "From the plot above, we can see that most of the features only have small correlation with patients' survival.\n",
      "But there are still some features with significant influence\n",
      "-------------------------------significant influence-------------------------------------\n",
      "There are 2 features has high positive correlation with final result:\n",
      "['intubated_apache', 'ventilated_apache']\n",
      "There are 3 features has high negative correlation with final result:\n",
      "['gcs_eyes_apache', 'gcs_motor_apache', 'gcs_verbal_apache']\n"
     ]
    }
   ],
   "source": [
    "# significance of association\n",
    "pprop = []\n",
    "nprop = []\n",
    "for i in range(len(covList)):\n",
    "    if covList[i]>0.05:\n",
    "        pprop.append(headers1X[i])\n",
    "    elif covList[i]<-0.05:\n",
    "        nprop.append(headers1X[i])\n",
    "print('From the plot above, we can see that most of the features only have small correlation with patients\\' survival.')\n",
    "print('But there are still some features with significant influence')\n",
    "print('-------------------------------significant influence-------------------------------------')\n",
    "print('There are %d features has high positive correlation with final result:' %len(pprop))\n",
    "print(pprop)\n",
    "print('There are %d features has high negative correlation with final result:' %len(nprop))\n",
    "print(nprop)"
   ]
  },
  {
   "cell_type": "markdown",
   "metadata": {},
   "source": [
    "## Conclusion\n",
    "All the analysis located after each code blocks.\n",
    "During my running time, the code works good. If there are some problems, please contact me (weChat and Phone: 17353231760) "
   ]
  }
 ],
 "metadata": {
  "kernelspec": {
   "display_name": "Python 3",
   "language": "python",
   "name": "python3"
  },
  "language_info": {
   "codemirror_mode": {
    "name": "ipython",
    "version": 3
   },
   "file_extension": ".py",
   "mimetype": "text/x-python",
   "name": "python",
   "nbconvert_exporter": "python",
   "pygments_lexer": "ipython3",
   "version": "3.7.4"
  }
 },
 "nbformat": 4,
 "nbformat_minor": 5
}
